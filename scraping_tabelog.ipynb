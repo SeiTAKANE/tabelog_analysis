{
 "cells": [
  {
   "cell_type": "code",
   "execution_count": 1,
   "id": "d742d576",
   "metadata": {},
   "outputs": [],
   "source": [
    "#パッケージのダウンロード\n",
    "import requests\n",
    "from bs4 import BeautifulSoup\n",
    "import re\n",
    "import pandas as pd\n",
    "import time \n",
    "from urllib.request import urlopen\n",
    "import numpy as np"
   ]
  },
  {
   "cell_type": "markdown",
   "id": "eeaa8cec",
   "metadata": {},
   "source": [
    "持ってくるデータ＝大阪の食べログランキング上位1000件のデータ"
   ]
  },
  {
   "cell_type": "code",
   "execution_count": 2,
   "id": "ef248549",
   "metadata": {},
   "outputs": [],
   "source": [
    "#url上部\n",
    "url_first_harf = \"https://tabelog.com/osaka/rstLst/\""
   ]
  },
  {
   "cell_type": "code",
   "execution_count": 3,
   "id": "f4f0b6bd",
   "metadata": {},
   "outputs": [],
   "source": [
    "#url下部\n",
    "url_second_harf = \"/?SrtT=rt&Srt=D&sort_mode =1\""
   ]
  },
  {
   "cell_type": "code",
   "execution_count": 26,
   "id": "0117cebe",
   "metadata": {},
   "outputs": [],
   "source": [
    "#店名\n",
    "name = []\n",
    "#最寄駅とそこからの距離、ジャンル\n",
    "station_genre = []\n",
    "#評価\n",
    "rate = []\n",
    "#レビュー数\n",
    "reviews_cnt = []\n",
    "#夜飯の価格帯\n",
    "dinner_price = []\n",
    "#昼飯の価格帯\n",
    "lunch_price = []\n",
    "\n",
    "#スクレイピング \n",
    "for  i in range(1,51,1):\n",
    "    #取得先 上部＋クエリ（数字）＋下部\n",
    "    url = url_first_harf + str(i) + url_second_harf\n",
    "    #取得\n",
    "    res = requests.get(url)\n",
    "    soup = BeautifulSoup(res.text, 'html.parser')\n",
    "    #店名\n",
    "    founds_name = soup.find_all('a', class_='list-rst__rst-name-target cpy-rst-name js-ranking-num')\n",
    "    for found in founds_name:\n",
    "        name.append(found.get_text())\n",
    "\n",
    "    #駅、ジャンル\n",
    "    founds_station_genre = soup.find_all('div', class_='list-rst__area-genre cpy-area-genre')\n",
    "    for found in founds_station_genre:\n",
    "        station_genre.append(found.get_text())\n",
    "    \n",
    "    #評価値\n",
    "    founds_rate = soup.find_all('span', class_='c-rating__val c-rating__val--strong list-rst__rating-val')\n",
    "    for found in founds_rate :\n",
    "        rate.append(found.get_text())\n",
    "    \n",
    "    #レビュー数\n",
    "    founds_reviews_cnt = soup.find_all('em', class_='list-rst__rvw-count-num cpy-review-count')\n",
    "    for found in founds_reviews_cnt:\n",
    "        reviews_cnt.append(found.get_text())\n",
    "        \n",
    "    #夜昼の価格帯\n",
    "    num = 0\n",
    "    founds_price = soup.find_all('span', class_='c-rating-v3__val')\n",
    "    for found in founds_price:\n",
    "    #夜の価格帯\n",
    "        if num == 0 or num % 2 == 0:\n",
    "            dinner_price.append(found.get_text())\n",
    "    #昼の価格帯\n",
    "        else:\n",
    "            lunch_price.append(found.get_text())\n",
    "        num= num+1"
   ]
  },
  {
   "cell_type": "code",
   "execution_count": 28,
   "id": "cf051f03",
   "metadata": {},
   "outputs": [],
   "source": [
    "#データセットの列名\n",
    "columns = [\"id\" ,\"name\", \"station_genre\", \"rate\", \"reviews_cnt\", \"dinner_price\",\"lunch_price\"]"
   ]
  },
  {
   "cell_type": "code",
   "execution_count": 29,
   "id": "c1281e2d",
   "metadata": {},
   "outputs": [],
   "source": [
    "#idの生成\n",
    "id = np.arange(1, len(name)+1) "
   ]
  },
  {
   "cell_type": "code",
   "execution_count": 10,
   "id": "95265673",
   "metadata": {},
   "outputs": [],
   "source": [
    "#挿入するデータ\n",
    "data = np.array([id,name,station_genre,rate,reviews_cnt,dinner_price,lunch_price])"
   ]
  },
  {
   "cell_type": "markdown",
   "id": "27fd04ee",
   "metadata": {},
   "source": [
    "columns = [\"id\" ,\"name\", \"station_genre\", \"rate\", \"reviews_cnt\", \"dinner_price\",\"lunch_price\"]"
   ]
  },
  {
   "cell_type": "code",
   "execution_count": 30,
   "id": "522b71f4",
   "metadata": {},
   "outputs": [],
   "source": [
    "#データセットの作成\n",
    "df_restrant = pd.DataFrame(\n",
    "    data={'id': np.array(id),\n",
    "             'name': np.array(name),\n",
    "             'station_genre': np.array(station_genre),\n",
    "             'rate': np.array(rate),\n",
    "             'reviews_cnt': np.array(reviews_cnt),\n",
    "             'dinner_price': np.array(dinner_price),\n",
    "             'lunch_price': np.array(lunch_price)}\n",
    ")"
   ]
  },
  {
   "cell_type": "code",
   "execution_count": 31,
   "id": "ccd5987f",
   "metadata": {},
   "outputs": [],
   "source": [
    "#csvへの書き出し\n",
    "df_restrant.to_csv('df_restrant.csv')"
   ]
  }
 ],
 "metadata": {
  "kernelspec": {
   "display_name": "Python 3 (ipykernel)",
   "language": "python",
   "name": "python3"
  },
  "language_info": {
   "codemirror_mode": {
    "name": "ipython",
    "version": 3
   },
   "file_extension": ".py",
   "mimetype": "text/x-python",
   "name": "python",
   "nbconvert_exporter": "python",
   "pygments_lexer": "ipython3",
   "version": "3.8.8"
  }
 },
 "nbformat": 4,
 "nbformat_minor": 5
}
